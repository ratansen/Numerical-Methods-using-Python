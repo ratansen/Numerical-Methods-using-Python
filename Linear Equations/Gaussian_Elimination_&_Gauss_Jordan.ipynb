{
  "nbformat": 4,
  "nbformat_minor": 0,
  "metadata": {
    "colab": {
      "provenance": [],
      "authorship_tag": "ABX9TyN110Wa9kb0xd1vyWWAKw7l",
      "include_colab_link": true
    },
    "kernelspec": {
      "name": "python3",
      "display_name": "Python 3"
    },
    "language_info": {
      "name": "python"
    }
  },
  "cells": [
    {
      "cell_type": "markdown",
      "metadata": {
        "id": "view-in-github",
        "colab_type": "text"
      },
      "source": [
        "<a href=\"https://colab.research.google.com/github/ratansen/Numerical-Methods-using-Python/blob/main/Linear%20Equations/Gaussian_Elimination_%26_Gauss_Jordan.ipynb\" target=\"_parent\"><img src=\"https://colab.research.google.com/assets/colab-badge.svg\" alt=\"Open In Colab\"/></a>"
      ]
    },
    {
      "cell_type": "markdown",
      "source": [
        "##Gauss Elimination Method of solving equations"
      ],
      "metadata": {
        "id": "WE26GegdH26N"
      }
    },
    {
      "cell_type": "code",
      "execution_count": 1,
      "metadata": {
        "id": "W6xJzcR9Fr56"
      },
      "outputs": [],
      "source": [
        "import numpy as np"
      ]
    },
    {
      "cell_type": "code",
      "source": [
        "a = np.array([[3.0,-0.1,-0.2,7.85],[0.1,7.0,-0.3,-19.3],[0.3,-0.2,10.0,71.4]])\n",
        "print(a)\n",
        "\n",
        "n = len(a)\n",
        "\n",
        "print(n)"
      ],
      "metadata": {
        "colab": {
          "base_uri": "https://localhost:8080/"
        },
        "id": "R3L7tLNrIJAB",
        "outputId": "fcd449e3-b1ec-4c99-ddd3-75a0a4591b82"
      },
      "execution_count": 2,
      "outputs": [
        {
          "output_type": "stream",
          "name": "stdout",
          "text": [
            "[[  3.    -0.1   -0.2    7.85]\n",
            " [  0.1    7.    -0.3  -19.3 ]\n",
            " [  0.3   -0.2   10.    71.4 ]]\n",
            "3\n"
          ]
        }
      ]
    },
    {
      "cell_type": "code",
      "source": [
        "def gaussian_elim(a):\n",
        "\n",
        "    A = a.copy()\n",
        "\n",
        "    #initialize x\n",
        "    x = np.zeros(n)\n",
        "\n",
        "    for i in range(n):\n",
        "        if A[i][i] != 0.0:\n",
        "            for j in range(i+1, n):\n",
        "                factor = A[j][i]/A[i][i]\n",
        "                A[j] -= factor * A[i]\n",
        "\n",
        "    # Back Substitution\n",
        "    x[n-1] = A[n-1][n]/A[n-1][n-1]\n",
        "\n",
        "    for i in range(n-2,-1,-1):\n",
        "        x[i] = A[i][n]\n",
        "        for j in range(i+1,n):\n",
        "            x[i] -= A[i][j]*x[j]\n",
        "\n",
        "        x[i] /= A[i][i]\n",
        "\n",
        "    return x"
      ],
      "metadata": {
        "id": "7PD-SryVIRip"
      },
      "execution_count": 3,
      "outputs": []
    },
    {
      "cell_type": "code",
      "source": [
        "#Solution using Gaussian Elimination Method\n",
        "\n",
        "x = gaussian_elim(a)\n",
        "\n",
        "#print the solution\n",
        "for i in range(n):\n",
        "    print('X%d = %0.6f' %(i+1,x[i]), end = '\\t')"
      ],
      "metadata": {
        "colab": {
          "base_uri": "https://localhost:8080/"
        },
        "id": "llVCl28rIY5E",
        "outputId": "6c732ce3-f690-4a76-b2d4-a35cc1b2394c"
      },
      "execution_count": 4,
      "outputs": [
        {
          "output_type": "stream",
          "name": "stdout",
          "text": [
            "X1 = 3.000000\tX2 = -2.500000\tX3 = 7.000000\t"
          ]
        }
      ]
    },
    {
      "cell_type": "markdown",
      "source": [
        "## Gauss Jordan Method of solving equations"
      ],
      "metadata": {
        "id": "xKzv3kWbIex8"
      }
    },
    {
      "cell_type": "code",
      "source": [
        "def gauss_jordan(a):\n",
        "\n",
        "    #copy a into another matrix so as to not change the input matrix\n",
        "    A = a.copy()\n",
        "\n",
        "    #initialize x\n",
        "    x = np.zeros(n)\n",
        "\n",
        "    for i in range(n):\n",
        "        for j in range(n):\n",
        "            if i != j:\n",
        "                factor = A[j][i]/A[i][i]\n",
        "                A[j] -= factor * A[i]\n",
        "\n",
        "    # Obtaining Solution\n",
        "\n",
        "    for i in range(n):\n",
        "        x[i] = A[i][n]/A[i][i]\n",
        "\n",
        "    return x"
      ],
      "metadata": {
        "id": "LDS5Bv6UIkmi"
      },
      "execution_count": 5,
      "outputs": []
    },
    {
      "cell_type": "code",
      "source": [
        "#Solution using Gauss Jordan Method\n",
        "\n",
        "x = gauss_jordan(a)\n",
        "\n",
        "#print the solution\n",
        "for i in range(n):\n",
        "    print('X%d = %0.6f' %(i+1,x[i]), end = '\\t')"
      ],
      "metadata": {
        "colab": {
          "base_uri": "https://localhost:8080/"
        },
        "id": "WzF33_lGIp00",
        "outputId": "2504cb4f-57de-4813-efef-c26856c45ab9"
      },
      "execution_count": 6,
      "outputs": [
        {
          "output_type": "stream",
          "name": "stdout",
          "text": [
            "X1 = 3.000000\tX2 = -2.500000\tX3 = 7.000000\t"
          ]
        }
      ]
    }
  ]
}