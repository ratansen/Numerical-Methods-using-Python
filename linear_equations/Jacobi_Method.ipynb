{
  "cells": [
    {
      "cell_type": "markdown",
      "metadata": {
        "id": "view-in-github",
        "colab_type": "text"
      },
      "source": [
        "<a href=\"https://colab.research.google.com/github/ratansen/Numerical-Methods-using-Python/blob/main/linear_equations/Jacobi_Method.ipynb\" target=\"_parent\"><img src=\"https://colab.research.google.com/assets/colab-badge.svg\" alt=\"Open In Colab\"/></a>"
      ]
    },
    {
      "cell_type": "markdown",
      "id": "ba499c0f",
      "metadata": {
        "id": "ba499c0f"
      },
      "source": [
        "# Jacobi Method"
      ]
    },
    {
      "cell_type": "markdown",
      "id": "1d0e9c67",
      "metadata": {
        "id": "1d0e9c67"
      },
      "source": [
        "## Jacobi Method for Eigenvalues and Eigenvectors\n",
        "\n",
        "The method is named after Carl Gustav Jacob Jacobi, who first proposed the method in 1846.\n",
        "\n",
        "- Iterative method for calculating the eigenvalues and corresponding eigenvectors of a real symmetric matrix.\n",
        "- Adopts the process of matrix diagonalization, where the eigenvalues are equal to the diagonal element.\n",
        "- A solution is guaranteed for all real symmetric matrixes.\n",
        "- It is based on series of rotations called Jacobi or given rotations.\n",
        "- The rotations that are similarity transformations are chosen to discard the off-diagonal elements in such a way that eigenvalues are preserved.\n",
        "\n",
        "In this method, we will apply similarity transformations on the given matrix such that after a sequence of a\n",
        "similarity transformations the matrix converts into a diagonal matrix and from the diagonal matrix, we can see the\n",
        "eigenvalue directly as the diagonal element."
      ]
    },
    {
      "cell_type": "code",
      "execution_count": 1,
      "id": "1c13d3ff",
      "metadata": {
        "id": "1c13d3ff"
      },
      "outputs": [],
      "source": [
        "#importing libraries\n",
        "\n",
        "import numpy as np\n",
        "from numpy import array, identity, diagonal\n",
        "import math\n",
        "from math import sqrt\n",
        "import sys\n",
        "from pprint import pprint\n",
        "import matplotlib.pyplot as plt\n",
        "\n",
        "maxitr = 200\n",
        "tol = 1.0e-9"
      ]
    },
    {
      "cell_type": "code",
      "execution_count": 4,
      "id": "20a31534",
      "metadata": {
        "colab": {
          "base_uri": "https://localhost:8080/"
        },
        "id": "20a31534",
        "outputId": "28093763-95db-407f-e3cf-d11ad9dbc1d5"
      },
      "outputs": [
        {
          "output_type": "stream",
          "name": "stdout",
          "text": [
            "array([[ 4.,  2.,  2.,  1.],\n",
            "       [ 2., -3.,  1.,  1.],\n",
            "       [ 2.,  1.,  3.,  1.],\n",
            "       [ 1.,  1.,  1.,  2.]])\n"
          ]
        }
      ],
      "source": [
        "A = np.array([[4, 2, 2, 1],\n",
        "[2, -3, 1, 1],\n",
        "[2, 1, 3, 1],\n",
        "[1, 1, 1, 2]], float)\n",
        "pprint(A)\n",
        "\n",
        "n = len(A)"
      ]
    },
    {
      "cell_type": "code",
      "execution_count": 5,
      "id": "15ae6425",
      "metadata": {
        "colab": {
          "base_uri": "https://localhost:8080/"
        },
        "id": "15ae6425",
        "outputId": "02cae08c-8a68-42de-e613-f48922e8303c"
      },
      "outputs": [
        {
          "output_type": "stream",
          "name": "stdout",
          "text": [
            "[ 6.64575131 -3.64575131  1.35424869  1.64575131]\n"
          ]
        }
      ],
      "source": [
        "n = len(A)\n",
        "\n",
        "D = np.zeros((n,n))\n",
        "D = np.copy(A)\n",
        "\n",
        "for i in range(maxitr):\n",
        "    for p in range(n):\n",
        "        for q in range(p):\n",
        "            if(abs(A[p][q])>tol):\n",
        "                theta = (A[q][q]-A[p][p])/(2*A[p][q])\n",
        "                t = theta/((abs(theta) + sqrt(theta*theta+1))*abs(theta))\n",
        "                c = 1/(sqrt(t*t+1))\n",
        "                s = c*t\n",
        "                D[p][p] =((c**2)*A[p][p]) + ((s**2)*A[q][q]) - (2*c*s*A[p][q])\n",
        "                D[q][q] = (s**2)*A[p][p] + (c**2)*A[q][q] + 2*c*s*A[p][q]\n",
        "                D[p][q] = D[q][p] = 0\n",
        "                for j in range(n):\n",
        "                    if(j != p and j != q):\n",
        "                        D[j][p] = (c*A[j][p])-(s*A[j][q])\n",
        "                        D[p][j] = np.copy(D[j][p])\n",
        "                        D[j][q] = c*A[j][q]+s*A[j][p]\n",
        "                        D[q][j] = np.copy(D[j][q])\n",
        "                A = np.copy(D)\n",
        "\n",
        "for i in range(n):\n",
        "    for j in range(n):\n",
        "        if abs(A[i][j])<tol:\n",
        "            A[i][j] = 0\n",
        "print(diagonal(A))"
      ]
    },
    {
      "cell_type": "code",
      "execution_count": 6,
      "id": "8fac627d",
      "metadata": {
        "colab": {
          "base_uri": "https://localhost:8080/"
        },
        "id": "8fac627d",
        "outputId": "dd9ec4a1-ee4e-4e19-9028-ff59f949bbbe"
      },
      "outputs": [
        {
          "output_type": "stream",
          "name": "stdout",
          "text": [
            "array([[4., 2., 1., 0., 0., 0., 0., 0., 0., 0.],\n",
            "       [2., 4., 2., 1., 0., 0., 0., 0., 0., 0.],\n",
            "       [1., 2., 4., 2., 1., 0., 0., 0., 0., 0.],\n",
            "       [0., 1., 2., 4., 2., 1., 0., 0., 0., 0.],\n",
            "       [0., 0., 1., 2., 4., 2., 1., 0., 0., 0.],\n",
            "       [0., 0., 0., 1., 2., 4., 2., 1., 0., 0.],\n",
            "       [0., 0., 0., 0., 1., 2., 4., 2., 1., 0.],\n",
            "       [0., 0., 0., 0., 0., 1., 2., 4., 2., 1.],\n",
            "       [0., 0., 0., 0., 0., 0., 1., 2., 4., 2.],\n",
            "       [0., 0., 0., 0., 0., 0., 0., 1., 2., 4.]])\n"
          ]
        }
      ],
      "source": [
        "# Problem 2\n",
        "\n",
        "# creating the matrix\n",
        "n = 10\n",
        "A = np.zeros((n,n))\n",
        "D = np.zeros((n,n))\n",
        "for i in range(n):\n",
        "    A[i][i]=4\n",
        "    if i+1<n:\n",
        "        A[i+1][i] = A[i][i+1] = 2\n",
        "    if i+2<n:\n",
        "        A[i+2][i] = A[i][i+2] = 1\n",
        "pprint(A)"
      ]
    },
    {
      "cell_type": "code",
      "execution_count": 7,
      "id": "c18074ad",
      "metadata": {
        "colab": {
          "base_uri": "https://localhost:8080/"
        },
        "id": "c18074ad",
        "outputId": "c9a61b0b-9742-4975-a3f2-92ddcb485f6c"
      },
      "outputs": [
        {
          "output_type": "stream",
          "name": "stdout",
          "text": [
            "array([9.555026, 1.188039, 1.205693, 8.322571, 2.      , 6.580836,\n",
            "       1.783996, 4.705394, 1.591039, 3.067407])\n"
          ]
        }
      ],
      "source": [
        "n = len(A)\n",
        "D = np.copy(A)\n",
        "for i in range(maxitr):\n",
        "    for p in range(n):\n",
        "        for q in range(p):\n",
        "            if(abs(A[p][q])>tol):\n",
        "                theta = (A[q][q]-A[p][p])/(2*A[p][q])\n",
        "                if theta != 0:\n",
        "                    t = theta/((abs(theta) + sqrt(theta*theta+1))*abs(theta))\n",
        "                else:\n",
        "                    t=1\n",
        "                c = 1/(sqrt(t*t+1))\n",
        "                s = c*t\n",
        "                D[p][p] =((c**2)*A[p][p]) + ((s**2)*A[q][q]) - (2*c*s*A[p][q])\n",
        "                D[q][q] = (s**2)*A[p][p] + (c**2)*A[q][q] + 2*c*s*A[p][q]\n",
        "                D[p][q] = D[q][p] = 0\n",
        "                for j in range(n):\n",
        "                    if(j != p and j != q):\n",
        "                        D[j][p] =(c*A[j][p])-(s*A[j][q])\n",
        "                        D[p][j] = np.copy(D[j][p])\n",
        "                        D[j][q] = c*A[j][q]+s*A[j][p]\n",
        "                        D[q][j] = np.copy(D[j][q])\n",
        "                A = np.copy(D)\n",
        "\n",
        "pprint(np.around(diagonal(A), 6))"
      ]
    },
    {
      "cell_type": "code",
      "execution_count": null,
      "id": "65a3f73a",
      "metadata": {
        "id": "65a3f73a"
      },
      "outputs": [],
      "source": []
    }
  ],
  "metadata": {
    "kernelspec": {
      "display_name": "Python 3",
      "language": "python",
      "name": "python3"
    },
    "language_info": {
      "codemirror_mode": {
        "name": "ipython",
        "version": 3
      },
      "file_extension": ".py",
      "mimetype": "text/x-python",
      "name": "python",
      "nbconvert_exporter": "python",
      "pygments_lexer": "ipython3",
      "version": "3.8.8"
    },
    "colab": {
      "provenance": [],
      "include_colab_link": true
    }
  },
  "nbformat": 4,
  "nbformat_minor": 5
}