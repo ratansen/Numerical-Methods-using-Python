{
  "nbformat": 4,
  "nbformat_minor": 0,
  "metadata": {
    "colab": {
      "provenance": [],
      "authorship_tag": "ABX9TyNvG1+9zNabJLLRMFfYfYm/",
      "include_colab_link": true
    },
    "kernelspec": {
      "name": "python3",
      "display_name": "Python 3"
    },
    "language_info": {
      "name": "python"
    }
  },
  "cells": [
    {
      "cell_type": "markdown",
      "metadata": {
        "id": "view-in-github",
        "colab_type": "text"
      },
      "source": [
        "<a href=\"https://colab.research.google.com/github/ratansen/Numerical-Methods-using-Python/blob/main/linear_equations/Cholesky_Decomposition.ipynb\" target=\"_parent\"><img src=\"https://colab.research.google.com/assets/colab-badge.svg\" alt=\"Open In Colab\"/></a>"
      ]
    },
    {
      "cell_type": "markdown",
      "source": [
        "# Cholesky Decomposition Using a 4x4 Matrix\n",
        "\n",
        "Cholesky decomposition is a numerical method used to decompose a positive-definite matrix into a product of a lower triangular matrix and its transpose. This decomposition is particularly useful in solving linear systems, optimizing algorithms, and in Monte Carlo simulations. To illustrate the Cholesky decomposition, let's consider a 4x4 positive-definite matrix $ A $.\n",
        "\n",
        "## Matrix $ A $\n",
        "Suppose $ A $ is given by:\n",
        "\n",
        "$\n",
        "A = \\begin{pmatrix}\n",
        "4 & 12 & -16 & 0 \\\\\n",
        "12 & 37 & -43 & 0 \\\\\n",
        "-16 & -43 & 98 & 0 \\\\\n",
        "0 & 0 & 0 & 25\n",
        "\\end{pmatrix}\n",
        "$\n",
        "\n",
        "The Cholesky decomposition of $ A $ involves finding a lower triangular matrix $ L $ such that:\n",
        "\n",
        "$\n",
        "A = L L^T\n",
        "$\n",
        "\n",
        "Where $ L $ is a 4x4 lower triangular matrix:\n",
        "\n",
        "$\n",
        "L = \\begin{pmatrix}\n",
        "l_{11} & 0 & 0 & 0 \\\\\n",
        "l_{21} & l_{22} & 0 & 0 \\\\\n",
        "l_{31} & l_{32} & l_{33} & 0 \\\\\n",
        "l_{41} & l_{42} & l_{43} & l_{44}\n",
        "\\end{pmatrix}\n",
        "$\n",
        "\n",
        "## Steps to Compute $ L $\n",
        "\n",
        "1. **Compute $ l_{11} $:**\n",
        "\n",
        "$\n",
        "l_{11} = \\sqrt{a_{11}} = \\sqrt{4} = 2\n",
        "$\n",
        "\n",
        "2. **Compute the first column of $ L $:**\n",
        "\n",
        "$\n",
        "l_{21} = \\frac{a_{21}}{l_{11}} = \\frac{12}{2} = 6\n",
        "$\n",
        "\n",
        "$\n",
        "l_{31} = \\frac{a_{31}}{l_{11}} = \\frac{-16}{2} = -8\n",
        "$\n",
        "\n",
        "$\n",
        "l_{41} = \\frac{a_{41}}{l_{11}} = \\frac{0}{2} = 0\n",
        "$\n",
        "\n",
        "3. **Compute $ l_{22} $:**\n",
        "\n",
        "$\n",
        "l_{22} = \\sqrt{a_{22} - l_{21}^2} = \\sqrt{37 - 6^2} = \\sqrt{37 - 36} = 1\n",
        "$\n",
        "\n",
        "4. **Compute the second column of $ L $:**\n",
        "\n",
        "$\n",
        "l_{32} = \\frac{a_{32} - l_{31}l_{21}}{l_{22}} = \\frac{-43 - (-8) \\cdot 6}{1} = \\frac{-43 + 48}{1} = 5\n",
        "$\n",
        "\n",
        "$\n",
        "l_{42} = \\frac{a_{42} - l_{41}l_{21}}{l_{22}} = \\frac{0 - 0 \\cdot 6}{1} = 0\n",
        "$\n",
        "\n",
        "5. **Compute $ l_{33} $:**\n",
        "\n",
        "$\n",
        "l_{33} = \\sqrt{a_{33} - l_{31}^2 - l_{32}^2} = \\sqrt{98 - (-8)^2 - 5^2} = \\sqrt{98 - 64 - 25} = \\sqrt{9} = 3\n",
        "$\n",
        "\n",
        "6. **Compute the third column of $ L $:**\n",
        "\n",
        "$\n",
        "l_{43} = \\frac{a_{43} - l_{41}l_{31} - l_{42}l_{32}}{l_{33}} = \\frac{0 - 0 \\cdot (-8) - 0 \\cdot 5}{3} = 0\n",
        "$\n",
        "\n",
        "7. **Compute $ l_{44} $:**\n",
        "\n",
        "$\n",
        "l_{44} = \\sqrt{a_{44} - l_{41}^2 - l_{42}^2 - l_{43}^2} = \\sqrt{25 - 0^2 - 0^2 - 0^2} = \\sqrt{25} = 5\n",
        "$\n",
        "\n",
        "## Lower Triangular Matrix $ L $\n",
        "\n",
        "After computing all the elements, the matrix $ L $ is:\n",
        "\n",
        "$\n",
        "L = \\begin{pmatrix}\n",
        "2 & 0 & 0 & 0 \\\\\n",
        "6 & 1 & 0 & 0 \\\\\n",
        "-8 & 5 & 3 & 0 \\\\\n",
        "0 & 0 & 0 & 5\n",
        "\\end{pmatrix}\n",
        "$\n",
        "\n",
        "Thus, the Cholesky decomposition of $ A $ is:\n",
        "\n",
        "$\n",
        "A = L L^T = \\begin{pmatrix}\n",
        "2 & 0 & 0 & 0 \\\\\n",
        "6 & 1 & 0 & 0 \\\\\n",
        "-8 & 5 & 3 & 0 \\\\\n",
        "0 & 0 & 0 & 5\n",
        "\\end{pmatrix}\n",
        "\\begin{pmatrix}\n",
        "2 & 6 & -8 & 0 \\\\\n",
        "0 & 1 & 5 & 0 \\\\\n",
        "0 & 0 & 3 & 0 \\\\\n",
        "0 & 0 & 0 & 5\n",
        "\\end{pmatrix}\n",
        "$"
      ],
      "metadata": {
        "id": "EQzNsjlyCXUO"
      }
    },
    {
      "cell_type": "code",
      "execution_count": null,
      "metadata": {
        "id": "bazwUAztukwF"
      },
      "outputs": [],
      "source": [
        "import numpy as np\n",
        "from pprint import pprint"
      ]
    },
    {
      "cell_type": "code",
      "source": [
        "N = 4  # dimension\n",
        "A = np.array([[4, 12, -16, 0],\n",
        "                        [12, 37, -43, 0],\n",
        "                        [-16, -43, 98, 0],\n",
        "                        [0, 0, 0, 25]\n",
        "                        ])"
      ],
      "metadata": {
        "id": "mPdMV-jZClhT"
      },
      "execution_count": null,
      "outputs": []
    },
    {
      "cell_type": "code",
      "source": [
        "def cholesky(A):\n",
        "  n = len(A)\n",
        "  L = np.array([[0.0] * n for  i in range(n)])\n",
        "  for i in range(n):\n",
        "      for k in range(i+1):\n",
        "          tmp_sum = sum(L[i][j] * L[k][j] for j in range(k))\n",
        "\n",
        "          if (i == k): # Diagonal elements\n",
        "              L[i][k] = np.sqrt(A[i][i] - tmp_sum)\n",
        "          else:\n",
        "              L[i][k] = (1.0 / L[k][k]) * ((A[i][k] - tmp_sum))\n",
        "  return L"
      ],
      "metadata": {
        "id": "U1j789ZfNW57"
      },
      "execution_count": null,
      "outputs": []
    },
    {
      "cell_type": "code",
      "source": [
        "L = cholesky(A)\n",
        "pprint(L)"
      ],
      "metadata": {
        "colab": {
          "base_uri": "https://localhost:8080/"
        },
        "id": "F7GfNsHsOYCL",
        "outputId": "37d397a5-763c-4398-a7b3-3b4027ef2ccb"
      },
      "execution_count": null,
      "outputs": [
        {
          "output_type": "stream",
          "name": "stdout",
          "text": [
            "array([[ 2.,  0.,  0.,  0.],\n",
            "       [ 6.,  1.,  0.,  0.],\n",
            "       [-8.,  5.,  3.,  0.],\n",
            "       [ 0.,  0.,  0.,  5.]])\n"
          ]
        }
      ]
    },
    {
      "cell_type": "code",
      "source": [
        "# verify\n",
        "W = np.matmul(L, L.T)\n",
        "print(W)\n",
        "print(A)\n",
        "print(\"Diff : \\n\", W - A)"
      ],
      "metadata": {
        "colab": {
          "base_uri": "https://localhost:8080/"
        },
        "id": "qbQ9OsV3OuKm",
        "outputId": "8c0ecaae-8488-4f72-c35f-e0bfb2f6697f"
      },
      "execution_count": null,
      "outputs": [
        {
          "output_type": "stream",
          "name": "stdout",
          "text": [
            "[[  4.  12. -16.   0.]\n",
            " [ 12.  37. -43.   0.]\n",
            " [-16. -43.  98.   0.]\n",
            " [  0.   0.   0.  25.]]\n",
            "[[  4  12 -16   0]\n",
            " [ 12  37 -43   0]\n",
            " [-16 -43  98   0]\n",
            " [  0   0   0  25]]\n",
            "Diff : \n",
            " [[0. 0. 0. 0.]\n",
            " [0. 0. 0. 0.]\n",
            " [0. 0. 0. 0.]\n",
            " [0. 0. 0. 0.]]\n"
          ]
        }
      ]
    },
    {
      "cell_type": "markdown",
      "source": [
        "##Solving linear equation using Cholesky Decomposition\n",
        "To solve a linear system $ A \\mathbf{x} = \\mathbf{b} $ using the Cholesky decomposition, we utilize the fact that $ A $ can be decomposed into $ L L^T $. This allows us to transform the problem into two simpler systems of equations that can be solved sequentially.\n",
        "\n",
        "Given the matrix $ A $ and its Cholesky decomposition $ A = L L^T $, and the equation:\n",
        "\n",
        "$ A \\mathbf{x} = \\mathbf{b} $\n",
        "\n",
        "We proceed as follows:\n",
        "\n",
        "1. **Solve $ L \\mathbf{y} = \\mathbf{b} $ for $ \\mathbf{y} $ (forward substitution)**\n",
        "\n",
        "2. **Solve $ L^T \\mathbf{x} = \\mathbf{y} $ for $ \\mathbf{x} $ (backward substitution)**\n",
        "\n",
        "Let's solve this with an example where:\n",
        "\n",
        "$ A = \\begin{pmatrix}\n",
        "4 & 12 & -16 & 0 \\\\\n",
        "12 & 37 & -43 & 0 \\\\\n",
        "-16 & -43 & 98 & 0 \\\\\n",
        "0 & 0 & 0 & 25\n",
        "\\end{pmatrix} $\n",
        "\n",
        "$ L = \\begin{pmatrix}\n",
        "2 & 0 & 0 & 0 \\\\\n",
        "6 & 1 & 0 & 0 \\\\\n",
        "-8 & 5 & 3 & 0 \\\\\n",
        "0 & 0 & 0 & 5\n",
        "\\end{pmatrix} $\n",
        "\n",
        "Suppose we have:\n",
        "\n",
        "$ \\mathbf{b} = \\begin{pmatrix}\n",
        "1 \\\\\n",
        "2 \\\\\n",
        "3 \\\\\n",
        "4\n",
        "\\end{pmatrix} $\n",
        "\n",
        "### Step 1: Solve $ L \\mathbf{y} = \\mathbf{b} $\n",
        "\n",
        "$ \\begin{pmatrix}\n",
        "2 & 0 & 0 & 0 \\\\\n",
        "6 & 1 & 0 & 0 \\\\\n",
        "-8 & 5 & 3 & 0 \\\\\n",
        "0 & 0 & 0 & 5\n",
        "\\end{pmatrix} \\begin{pmatrix}\n",
        "y_1 \\\\\n",
        "y_2 \\\\\n",
        "y_3 \\\\\n",
        "y_4\n",
        "\\end{pmatrix} = \\begin{pmatrix}\n",
        "1 \\\\\n",
        "2 \\\\\n",
        "3 \\\\\n",
        "4\n",
        "\\end{pmatrix} $\n",
        "\n",
        "This gives us a system of equations:\n",
        "\n",
        "1. $ 2y_1 = 1 \\Rightarrow y_1 = \\frac{1}{2} = 0.5 $\n",
        "2. $ 6y_1 + y_2 = 2 \\Rightarrow 6 \\cdot \\frac{1}{2} + y_2 = 2 \\Rightarrow 3 + y_2 = 2 \\Rightarrow y_2 = -1 $\n",
        "3. $ -8y_1 + 5y_2 + 3y_3 = 3 \\Rightarrow -8 \\cdot \\frac{1}{2} + 5 \\cdot (-1) + 3y_3 = 3 \\Rightarrow -4 - 5 + 3y_3 = 3 \\Rightarrow 3y_3 = 12 \\Rightarrow y_3 = 4 $\n",
        "4. $ 5y_4 = 4 \\Rightarrow y_4 = \\frac{4}{5} = 0.8 $\n",
        "\n",
        "So, we have:\n",
        "\n",
        "$ \\mathbf{y} = \\begin{pmatrix}\n",
        "0.5 \\\\\n",
        "-1 \\\\\n",
        "4 \\\\\n",
        "0.8\n",
        "\\end{pmatrix} $\n",
        "\n",
        "### Step 2: Solve $ L^T \\mathbf{x} = \\mathbf{y} $\n",
        "\n",
        "$ \\begin{pmatrix}\n",
        "2 & 6 & -8 & 0 \\\\\n",
        "0 & 1 & 5 & 0 \\\\\n",
        "0 & 0 & 3 & 0 \\\\\n",
        "0 & 0 & 0 & 5\n",
        "\\end{pmatrix} \\begin{pmatrix}\n",
        "x_1 \\\\\n",
        "x_2 \\\\\n",
        "x_3 \\\\\n",
        "x_4\n",
        "\\end{pmatrix} = \\begin{pmatrix}\n",
        "0.5 \\\\\n",
        "-1 \\\\\n",
        "4 \\\\\n",
        "0.8\n",
        "\\end{pmatrix} $\n",
        "\n",
        "This gives us a system of equations:\n",
        "\n",
        "1. $ 5x_4 = 0.8 \\Rightarrow x_4 = 0.16 $\n",
        "2. $ 3x_3 = 4 \\Rightarrow x_3 = 1.333 $\n",
        "3. $ x_2 + 5x_3 = -1 \\Rightarrow x_2 = -7.666 $\n",
        "4. $ 2x_1 + 6x_2 - 8x_3 = 0.5 \\Rightarrow x_1 = 28.5833 $\n",
        "\n",
        "So, we have:\n",
        "\n",
        "$ \\mathbf{x} = \\begin{pmatrix}\n",
        "28.5833 \\\\\n",
        "-7.666 \\\\\n",
        "1.333 \\\\\n",
        "0.16\n",
        "\\end{pmatrix} $\n",
        "\n",
        "Thus, the solution to the linear system $ A \\mathbf{x} = \\mathbf{b} $ is:\n",
        "\n",
        "$ \\mathbf{x} = \\begin{pmatrix}\n",
        "28.5833 \\\\\n",
        "-7.666 \\\\\n",
        "1.333 \\\\\n",
        "0.16\n",
        "\\end{pmatrix} $"
      ],
      "metadata": {
        "id": "yAPTAIYkC7fX"
      }
    },
    {
      "cell_type": "code",
      "source": [
        "def fwdsub(l, b):\n",
        "    n = len(l[0])\n",
        "    y = b\n",
        "    for i in range(n):\n",
        "        for j in range(i):\n",
        "            y[i] -= l[i][j]*y[j]\n",
        "        y[i] /= l[i][i]\n",
        "    return y\n",
        "\n",
        "def backsub(u, y):\n",
        "    n = len(u[0])\n",
        "    x = np.zeros(n)\n",
        "    for i in range(1,n+1):\n",
        "        x[-i] = y[-i]\n",
        "        for j in range(1,i):\n",
        "            x[-i] -= u[-i][-j]*x[-j]\n",
        "        x[-i] /= u[-i][-i]\n",
        "    return np.array([x]).T\n"
      ],
      "metadata": {
        "id": "l0_V7TC-PBga"
      },
      "execution_count": null,
      "outputs": []
    },
    {
      "cell_type": "code",
      "source": [
        "b = np.array([[1.0], [2.0], [3.0], [4.0]])\n",
        "Y = fwdsub(L, b)\n",
        "print(\"Y \\n\", Y)\n",
        "U = np.transpose(L)\n",
        "X = backsub(U, Y)\n",
        "print(\"X \\n\", X)\n"
      ],
      "metadata": {
        "colab": {
          "base_uri": "https://localhost:8080/"
        },
        "id": "p0lRC9qBQHNe",
        "outputId": "a549785f-5b0c-4b21-bb31-f1b6a6409fab"
      },
      "execution_count": null,
      "outputs": [
        {
          "output_type": "stream",
          "name": "stdout",
          "text": [
            "Y \n",
            " [[ 0.5]\n",
            " [-1. ]\n",
            " [ 4. ]\n",
            " [ 0.8]]\n",
            "X \n",
            " [[28.58333333]\n",
            " [-7.66666667]\n",
            " [ 1.33333333]\n",
            " [ 0.16      ]]\n"
          ]
        },
        {
          "output_type": "stream",
          "name": "stderr",
          "text": [
            "<ipython-input-28-7c727391263f>:14: DeprecationWarning: Conversion of an array with ndim > 0 to a scalar is deprecated, and will error in future. Ensure you extract a single element from your array before performing this operation. (Deprecated NumPy 1.25.)\n",
            "  x[-i] = y[-i]\n"
          ]
        }
      ]
    }
  ]
}